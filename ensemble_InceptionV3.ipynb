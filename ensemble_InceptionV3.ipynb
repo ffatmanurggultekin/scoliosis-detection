{
  "nbformat": 4,
  "nbformat_minor": 0,
  "metadata": {
    "colab": {
      "provenance": [],
      "machine_shape": "hm",
      "gpuType": "L4",
      "authorship_tag": "ABX9TyM3h5XyeaPS3JYXt3luUltn",
      "include_colab_link": true
    },
    "kernelspec": {
      "name": "python3",
      "display_name": "Python 3"
    },
    "language_info": {
      "name": "python"
    },
    "accelerator": "GPU"
  },
  "cells": [
    {
      "cell_type": "markdown",
      "metadata": {
        "id": "view-in-github",
        "colab_type": "text"
      },
      "source": [
        "<a href=\"https://colab.research.google.com/github/ffatmanurggultekin/scoliosis-detection/blob/main/ensemble_InceptionV3.ipynb\" target=\"_parent\"><img src=\"https://colab.research.google.com/assets/colab-badge.svg\" alt=\"Open In Colab\"/></a>"
      ]
    },
    {
      "cell_type": "code",
      "execution_count": null,
      "metadata": {
        "id": "ei35rwHtiKyW"
      },
      "outputs": [],
      "source": [
        "import os\n",
        "import numpy as np\n",
        "import pandas as pd\n",
        "import matplotlib.pyplot as plt\n",
        "import seaborn as sns\n",
        "from sklearn.svm import SVC\n",
        "from sklearn.metrics import confusion_matrix, classification_report, precision_score, recall_score, f1_score\n",
        "from sklearn.model_selection import StratifiedKFold\n",
        "\n",
        "import torch\n",
        "import torch.nn as nn\n",
        "from torchvision import datasets, models, transforms\n",
        "from torch.utils.data import DataLoader\n"
      ]
    },
    {
      "cell_type": "code",
      "source": [
        "from google.colab import drive # Import the google.colab.drive module\n",
        "\n",
        "# Define your data directories\n",
        "drive.mount('/content/drive') # Now you can use the drive object to mount your Google Drive\n",
        "train_dir = '/content/drive/My Drive/train_imadjust_sobel_diff_alpha0.5'\n",
        "val_dir = '/content/drive/My Drive/validation_imadjust_sobel_diff_alpha0.5'\n",
        "test_dir = '/content/drive/My Drive/test_imadjust_sobel_diff_alpha0.5'\n"
      ],
      "metadata": {
        "colab": {
          "base_uri": "https://localhost:8080/"
        },
        "id": "4TNzm4QnnHtT",
        "outputId": "a650c65f-48a0-4f91-f006-f75b35f34864"
      },
      "execution_count": null,
      "outputs": [
        {
          "output_type": "stream",
          "name": "stdout",
          "text": [
            "Drive already mounted at /content/drive; to attempt to forcibly remount, call drive.mount(\"/content/drive\", force_remount=True).\n"
          ]
        }
      ]
    },
    {
      "cell_type": "code",
      "source": [
        "# Device setup\n",
        "device = torch.device(\"cuda\" if torch.cuda.is_available() else \"cpu\")\n",
        "print(f\"Using device: {device}\")"
      ],
      "metadata": {
        "colab": {
          "base_uri": "https://localhost:8080/"
        },
        "id": "M_7ao3EPsu71",
        "outputId": "e1f50281-0b3d-4c6e-a7b9-b98dd4a30c8f"
      },
      "execution_count": null,
      "outputs": [
        {
          "output_type": "stream",
          "name": "stdout",
          "text": [
            "Using device: cuda\n"
          ]
        }
      ]
    },
    {
      "cell_type": "code",
      "source": [
        "# Data transformations\n",
        "train_transforms = transforms.Compose([\n",
        "    transforms.Resize((224, 224)),\n",
        "    transforms.RandomHorizontalFlip(),\n",
        "    transforms.ToTensor(),\n",
        "    transforms.Normalize([0.485, 0.456, 0.406], [0.229, 0.224, 0.225]),\n",
        "])\n",
        "\n",
        "val_transforms = transforms.Compose([\n",
        "    transforms.Resize((224, 224)),\n",
        "    transforms.ToTensor(),\n",
        "    transforms.Normalize([0.485, 0.456, 0.406], [0.229, 0.224, 0.225]),\n",
        "])"
      ],
      "metadata": {
        "id": "MAOX1XoQissc"
      },
      "execution_count": null,
      "outputs": []
    },
    {
      "cell_type": "code",
      "source": [
        "# Load datasets\n",
        "train_dataset = datasets.ImageFolder(train_dir, transform=train_transforms)\n",
        "val_dataset = datasets.ImageFolder(val_dir, transform=val_transforms)\n",
        "test_dataset = datasets.ImageFolder(test_dir, transform=val_transforms)\n",
        "\n",
        "train_loader = DataLoader(train_dataset, batch_size=32, shuffle=False, num_workers=4, pin_memory=True)\n",
        "val_loader = DataLoader(val_dataset, batch_size=32, shuffle=False, num_workers=4, pin_memory=True)\n",
        "test_loader = DataLoader(test_dataset, batch_size=32, shuffle=False, num_workers=4, pin_memory=True)"
      ],
      "metadata": {
        "id": "o3pK8X7tndwP"
      },
      "execution_count": null,
      "outputs": []
    },
    {
      "cell_type": "code",
      "source": [
        "# Load InceptionV3 model\n",
        "model = models.inception_v3(pretrained=True)\n",
        "num_features = model.fc.in_features\n",
        "model.fc = nn.Identity()  # Remove the classification head\n",
        "model = model.to(device)\n"
      ],
      "metadata": {
        "colab": {
          "base_uri": "https://localhost:8080/"
        },
        "id": "I8no1-zqs9be",
        "outputId": "da2677f9-3892-4b21-cc95-65694b57debb"
      },
      "execution_count": null,
      "outputs": [
        {
          "output_type": "stream",
          "name": "stderr",
          "text": [
            "/usr/local/lib/python3.11/dist-packages/torchvision/models/_utils.py:208: UserWarning: The parameter 'pretrained' is deprecated since 0.13 and may be removed in the future, please use 'weights' instead.\n",
            "  warnings.warn(\n",
            "/usr/local/lib/python3.11/dist-packages/torchvision/models/_utils.py:223: UserWarning: Arguments other than a weight enum or `None` for 'weights' are deprecated since 0.13 and may be removed in the future. The current behavior is equivalent to passing `weights=Inception_V3_Weights.IMAGENET1K_V1`. You can also use `weights=Inception_V3_Weights.DEFAULT` to get the most up-to-date weights.\n",
            "  warnings.warn(msg)\n",
            "Downloading: \"https://download.pytorch.org/models/inception_v3_google-0cc3c7bd.pth\" to /root/.cache/torch/hub/checkpoints/inception_v3_google-0cc3c7bd.pth\n",
            "100%|██████████| 104M/104M [00:00<00:00, 181MB/s] \n"
          ]
        }
      ]
    },
    {
      "cell_type": "code",
      "source": [
        "# Extract features function\n",
        "def extract_features(model, dataloader):\n",
        "    model.eval()\n",
        "    features = []\n",
        "    labels = []\n",
        "\n",
        "    with torch.no_grad():\n",
        "        for inputs, targets in dataloader:\n",
        "            inputs = inputs.to(device)\n",
        "            outputs = model(inputs)\n",
        "            features.append(outputs.cpu().numpy())\n",
        "            labels.extend(targets.numpy())\n",
        "\n",
        "    features = np.vstack(features)\n",
        "    return features, labels"
      ],
      "metadata": {
        "id": "D-NS_fhAtBu8"
      },
      "execution_count": null,
      "outputs": []
    },
    {
      "cell_type": "code",
      "source": [
        "# Cross-validation\n",
        "skf = StratifiedKFold(n_splits=5, shuffle=True, random_state=42)\n",
        "\n",
        "print(\"Extracting features for cross-validation...\")\n",
        "train_features, train_labels = extract_features(model, train_loader)\n",
        "val_features, val_labels = extract_features(model, val_loader)\n",
        "all_features = np.concatenate((train_features, val_features), axis=0)\n",
        "all_labels = np.concatenate((train_labels, val_labels), axis=0)\n",
        "\n",
        "accuracy_list, precision_list, recall_list, f1_list = [], [], [], []\n",
        "\n",
        "for fold, (train_idx, val_idx) in enumerate(skf.split(all_features, all_labels)):\n",
        "    print(f\"\\n=== Fold {fold + 1} ===\")\n",
        "    fold_train_features, fold_val_features = all_features[train_idx], all_features[val_idx]\n",
        "    fold_train_labels, fold_val_labels = all_labels[train_idx], all_labels[val_idx]\n",
        "\n",
        "    # Train SVM\n",
        "    svm = SVC(kernel='linear', probability=True)\n",
        "    svm.fit(fold_train_features, fold_train_labels)\n",
        "\n",
        "    # Validate SVM\n",
        "    fold_val_preds = svm.predict(fold_val_features)\n",
        "    accuracy_list.append((fold_val_preds == fold_val_labels).mean())\n",
        "    precision_list.append(precision_score(fold_val_labels, fold_val_preds))\n",
        "    recall_list.append(recall_score(fold_val_labels, fold_val_preds))\n",
        "    f1_list.append(f1_score(fold_val_labels, fold_val_preds))\n",
        "\n",
        "print(\"\\nCross-Validation Results:\")\n",
        "print(f\"Accuracy: {np.mean(accuracy_list):.4f} ± {np.std(accuracy_list):.4f}\")\n",
        "print(f\"Precision: {np.mean(precision_list):.4f} ± {np.std(precision_list):.4f}\")\n",
        "print(f\"Recall: {np.mean(recall_list):.4f} ± {np.std(recall_list):.4f}\")\n",
        "print(f\"F1-Score: {np.mean(f1_list):.4f} ± {np.std(f1_list):.4f}\")"
      ],
      "metadata": {
        "colab": {
          "base_uri": "https://localhost:8080/"
        },
        "id": "HzSnjPU5tHjE",
        "outputId": "ce5d9b7b-fbde-461d-d7f1-e40c8675e6d9"
      },
      "execution_count": null,
      "outputs": [
        {
          "output_type": "stream",
          "name": "stdout",
          "text": [
            "Extracting features for cross-validation...\n",
            "\n",
            "=== Fold 1 ===\n",
            "\n",
            "=== Fold 2 ===\n",
            "\n",
            "=== Fold 3 ===\n",
            "\n",
            "=== Fold 4 ===\n",
            "\n",
            "=== Fold 5 ===\n",
            "\n",
            "Cross-Validation Results:\n",
            "Accuracy: 0.9530 ± 0.0395\n",
            "Precision: 0.9677 ± 0.0204\n",
            "Recall: 0.9677 ± 0.0408\n",
            "F1-Score: 0.9674 ± 0.0276\n"
          ]
        }
      ]
    },
    {
      "cell_type": "code",
      "source": [
        "# Test set evaluation\n",
        "print(\"Extracting features from test data...\")\n",
        "test_features, test_labels = extract_features(model, test_loader)\n",
        "\n",
        "print(\"Evaluating on test set...\")\n",
        "test_preds = svm.predict(test_features)"
      ],
      "metadata": {
        "colab": {
          "base_uri": "https://localhost:8080/"
        },
        "id": "xn7BiKChtKyU",
        "outputId": "433c43a0-b0cf-43eb-8b40-a6d879769737"
      },
      "execution_count": null,
      "outputs": [
        {
          "output_type": "stream",
          "name": "stdout",
          "text": [
            "Extracting features from test data...\n",
            "Evaluating on test set...\n"
          ]
        }
      ]
    },
    {
      "cell_type": "code",
      "source": [
        "# Confusion Matrix and Classification Report\n",
        "cm = confusion_matrix(test_labels, test_preds)\n",
        "print(\"\\nTest Set Confusion Matrix:\")\n",
        "print(cm)\n",
        "print(\"\\nTest Set Classification Report:\")\n",
        "print(classification_report(test_labels, test_preds, target_names=test_dataset.classes))\n",
        "\n",
        "plt.figure(figsize=(8, 6))\n",
        "sns.heatmap(cm, annot=True, fmt='d', cmap='Blues', xticklabels=test_dataset.classes, yticklabels=test_dataset.classes)\n",
        "plt.title(\"Test Set Confusion Matrix\")\n",
        "plt.xlabel(\"Predicted\")\n",
        "plt.ylabel(\"True\")\n",
        "plt.show()\n"
      ],
      "metadata": {
        "colab": {
          "base_uri": "https://localhost:8080/",
          "height": 824
        },
        "id": "yJO0uwzotMsM",
        "outputId": "ecfc5b54-846e-4d32-c0db-eaf508c8cc00"
      },
      "execution_count": null,
      "outputs": [
        {
          "output_type": "stream",
          "name": "stdout",
          "text": [
            "\n",
            "Test Set Confusion Matrix:\n",
            "[[11  1]\n",
            " [ 3 26]]\n",
            "\n",
            "Test Set Classification Report:\n",
            "              precision    recall  f1-score   support\n",
            "\n",
            "      Normal       0.79      0.92      0.85        12\n",
            "        Scol       0.96      0.90      0.93        29\n",
            "\n",
            "    accuracy                           0.90        41\n",
            "   macro avg       0.87      0.91      0.89        41\n",
            "weighted avg       0.91      0.90      0.90        41\n",
            "\n"
          ]
        },
        {
          "output_type": "display_data",
          "data": {
            "text/plain": [
              "<Figure size 800x600 with 2 Axes>"
            ],
            "image/png": "[encoded data removed]"
          },
          "metadata": {}
        }
      ]
    }
  ]
}